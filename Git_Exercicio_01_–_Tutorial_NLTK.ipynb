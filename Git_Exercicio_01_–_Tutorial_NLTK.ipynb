{
  "nbformat": 4,
  "nbformat_minor": 0,
  "metadata": {
    "colab": {
      "provenance": [],
      "include_colab_link": true
    },
    "kernelspec": {
      "name": "python3",
      "display_name": "Python 3"
    },
    "language_info": {
      "name": "python"
    }
  },
  "cells": [
    {
      "cell_type": "markdown",
      "metadata": {
        "id": "view-in-github",
        "colab_type": "text"
      },
      "source": [
        "<a href=\"https://colab.research.google.com/github/Thalisson42/PythonDataScience/blob/main/Git_Exercicio_01_%E2%80%93_Tutorial_NLTK.ipynb\" target=\"_parent\"><img src=\"https://colab.research.google.com/assets/colab-badge.svg\" alt=\"Open In Colab\"/></a>"
      ]
    },
    {
      "cell_type": "markdown",
      "source": [
        "Expressões regulares\n"
      ],
      "metadata": {
        "id": "GrPfALBEFJtY"
      }
    },
    {
      "cell_type": "code",
      "execution_count": 1,
      "metadata": {
        "id": "77cGHSxQEtTZ"
      },
      "outputs": [],
      "source": [
        "import re"
      ]
    },
    {
      "cell_type": "code",
      "source": [
        "texto = \"o bibliotecário abriu a biblioteca\""
      ],
      "metadata": {
        "id": "zhWCJwA2E9E_"
      },
      "execution_count": 2,
      "outputs": []
    },
    {
      "cell_type": "code",
      "source": [
        "resultado = re.findall(r'biblio\\w*', texto)"
      ],
      "metadata": {
        "id": "EUYFDUO8E-Ri"
      },
      "execution_count": 3,
      "outputs": []
    },
    {
      "cell_type": "code",
      "source": [
        "resultado"
      ],
      "metadata": {
        "id": "nY3snxcKE_Q8",
        "colab": {
          "base_uri": "https://localhost:8080/"
        },
        "outputId": "d1114097-4b2d-4cc4-846f-4906edd63248"
      },
      "execution_count": 4,
      "outputs": [
        {
          "output_type": "execute_result",
          "data": {
            "text/plain": [
              "['bibliotecário', 'biblioteca']"
            ]
          },
          "metadata": {},
          "execution_count": 4
        }
      ]
    },
    {
      "cell_type": "code",
      "source": [
        "texto = \"uma pessoa boa\""
      ],
      "metadata": {
        "id": "dN9eiKB4FM8X"
      },
      "execution_count": 5,
      "outputs": []
    },
    {
      "cell_type": "code",
      "source": [
        "resultado = re.search(r'pessoa', texto)"
      ],
      "metadata": {
        "id": "G8Zf5TZ1FTGO"
      },
      "execution_count": 6,
      "outputs": []
    },
    {
      "cell_type": "code",
      "source": [
        "resultado"
      ],
      "metadata": {
        "id": "ODAjLYGOFUAh",
        "colab": {
          "base_uri": "https://localhost:8080/"
        },
        "outputId": "15e1c2cb-30c4-4374-cd0b-f61d314a8a9d"
      },
      "execution_count": 7,
      "outputs": [
        {
          "output_type": "execute_result",
          "data": {
            "text/plain": [
              "<re.Match object; span=(4, 10), match='pessoa'>"
            ]
          },
          "metadata": {},
          "execution_count": 7
        }
      ]
    },
    {
      "cell_type": "code",
      "source": [
        "texto[4:10]"
      ],
      "metadata": {
        "id": "K8XCjoZwFZJn",
        "colab": {
          "base_uri": "https://localhost:8080/",
          "height": 35
        },
        "outputId": "2fefdd8e-f4bc-4d99-e6f3-e5f2acb1b8ba"
      },
      "execution_count": 8,
      "outputs": [
        {
          "output_type": "execute_result",
          "data": {
            "text/plain": [
              "'pessoa'"
            ],
            "application/vnd.google.colaboratory.intrinsic+json": {
              "type": "string"
            }
          },
          "metadata": {},
          "execution_count": 8
        }
      ]
    },
    {
      "cell_type": "code",
      "source": [
        "resultado.group(0)"
      ],
      "metadata": {
        "id": "X2VI2U3BFaeL",
        "colab": {
          "base_uri": "https://localhost:8080/",
          "height": 35
        },
        "outputId": "cc8ea2a3-f981-43c1-8c11-0e4acae5a24b"
      },
      "execution_count": 9,
      "outputs": [
        {
          "output_type": "execute_result",
          "data": {
            "text/plain": [
              "'pessoa'"
            ],
            "application/vnd.google.colaboratory.intrinsic+json": {
              "type": "string"
            }
          },
          "metadata": {},
          "execution_count": 9
        }
      ]
    },
    {
      "cell_type": "code",
      "source": [
        "texto = \"Algum tempo hesitei se devia abrir estas memórias.\""
      ],
      "metadata": {
        "id": "iUjeDIuMFdzu"
      },
      "execution_count": 10,
      "outputs": []
    },
    {
      "cell_type": "code",
      "source": [
        "re.split(r'[ \\t\\n]+', texto)"
      ],
      "metadata": {
        "id": "UzUyVefYFl47",
        "colab": {
          "base_uri": "https://localhost:8080/"
        },
        "outputId": "2cce309a-d117-425e-b09c-f5dc7a8b4174"
      },
      "execution_count": 11,
      "outputs": [
        {
          "output_type": "execute_result",
          "data": {
            "text/plain": [
              "['Algum', 'tempo', 'hesitei', 'se', 'devia', 'abrir', 'estas', 'memórias.']"
            ]
          },
          "metadata": {},
          "execution_count": 11
        }
      ]
    },
    {
      "cell_type": "code",
      "source": [
        "print(re.findall(r\"\\w+(?:[-’]\\w+)*|’|[-.(]+|\\S\\w*\", texto))"
      ],
      "metadata": {
        "id": "ESxARmAfFvZA",
        "colab": {
          "base_uri": "https://localhost:8080/"
        },
        "outputId": "fffc2f3b-87cc-40c7-f38b-f3c07fa4e3be"
      },
      "execution_count": 12,
      "outputs": [
        {
          "output_type": "stream",
          "name": "stdout",
          "text": [
            "['Algum', 'tempo', 'hesitei', 'se', 'devia', 'abrir', 'estas', 'memórias', '.']\n"
          ]
        }
      ]
    },
    {
      "cell_type": "code",
      "source": [
        "lista = ['Casa', ',', 'comida', 'e', 'roupa', 'lavada', '.']"
      ],
      "metadata": {
        "id": "Va6pU_nhF0zz"
      },
      "execution_count": 13,
      "outputs": []
    },
    {
      "cell_type": "code",
      "source": [
        "lista[2]"
      ],
      "metadata": {
        "id": "wybh1KPcF8uF",
        "colab": {
          "base_uri": "https://localhost:8080/",
          "height": 35
        },
        "outputId": "b56afa4d-070c-49ef-8730-43bec451f4ac"
      },
      "execution_count": 14,
      "outputs": [
        {
          "output_type": "execute_result",
          "data": {
            "text/plain": [
              "'comida'"
            ],
            "application/vnd.google.colaboratory.intrinsic+json": {
              "type": "string"
            }
          },
          "metadata": {},
          "execution_count": 14
        }
      ]
    },
    {
      "cell_type": "code",
      "source": [
        "len(lista)"
      ],
      "metadata": {
        "id": "QhLi_DBgF9t7",
        "colab": {
          "base_uri": "https://localhost:8080/"
        },
        "outputId": "9edc4d34-3a16-49e5-deba-f4b3ec9a05a0"
      },
      "execution_count": 15,
      "outputs": [
        {
          "output_type": "execute_result",
          "data": {
            "text/plain": [
              "7"
            ]
          },
          "metadata": {},
          "execution_count": 15
        }
      ]
    },
    {
      "cell_type": "markdown",
      "source": [
        "Introdução ao NLTK"
      ],
      "metadata": {
        "id": "kEaSquKgGBOt"
      }
    },
    {
      "cell_type": "code",
      "source": [
        "import nltk"
      ],
      "metadata": {
        "id": "AZngD-o1GDAV"
      },
      "execution_count": 16,
      "outputs": []
    },
    {
      "cell_type": "code",
      "source": [
        "nltk.download(\"all\")"
      ],
      "metadata": {
        "id": "jM6gvMhFGF5e",
        "colab": {
          "base_uri": "https://localhost:8080/"
        },
        "outputId": "0849f3a4-763f-4c81-88fd-7b7c9672e5ee"
      },
      "execution_count": 17,
      "outputs": [
        {
          "output_type": "stream",
          "name": "stderr",
          "text": [
            "[nltk_data] Downloading collection 'all'\n",
            "[nltk_data]    | \n",
            "[nltk_data]    | Downloading package abc to /root/nltk_data...\n",
            "[nltk_data]    |   Unzipping corpora/abc.zip.\n",
            "[nltk_data]    | Downloading package alpino to /root/nltk_data...\n",
            "[nltk_data]    |   Unzipping corpora/alpino.zip.\n",
            "[nltk_data]    | Downloading package averaged_perceptron_tagger to\n",
            "[nltk_data]    |     /root/nltk_data...\n",
            "[nltk_data]    |   Unzipping taggers/averaged_perceptron_tagger.zip.\n",
            "[nltk_data]    | Downloading package averaged_perceptron_tagger_ru to\n",
            "[nltk_data]    |     /root/nltk_data...\n",
            "[nltk_data]    |   Unzipping\n",
            "[nltk_data]    |       taggers/averaged_perceptron_tagger_ru.zip.\n",
            "[nltk_data]    | Downloading package basque_grammars to\n",
            "[nltk_data]    |     /root/nltk_data...\n",
            "[nltk_data]    |   Unzipping grammars/basque_grammars.zip.\n",
            "[nltk_data]    | Downloading package biocreative_ppi to\n",
            "[nltk_data]    |     /root/nltk_data...\n",
            "[nltk_data]    |   Unzipping corpora/biocreative_ppi.zip.\n",
            "[nltk_data]    | Downloading package bllip_wsj_no_aux to\n",
            "[nltk_data]    |     /root/nltk_data...\n",
            "[nltk_data]    |   Unzipping models/bllip_wsj_no_aux.zip.\n",
            "[nltk_data]    | Downloading package book_grammars to\n",
            "[nltk_data]    |     /root/nltk_data...\n",
            "[nltk_data]    |   Unzipping grammars/book_grammars.zip.\n",
            "[nltk_data]    | Downloading package brown to /root/nltk_data...\n",
            "[nltk_data]    |   Unzipping corpora/brown.zip.\n",
            "[nltk_data]    | Downloading package brown_tei to /root/nltk_data...\n",
            "[nltk_data]    |   Unzipping corpora/brown_tei.zip.\n",
            "[nltk_data]    | Downloading package cess_cat to /root/nltk_data...\n",
            "[nltk_data]    |   Unzipping corpora/cess_cat.zip.\n",
            "[nltk_data]    | Downloading package cess_esp to /root/nltk_data...\n",
            "[nltk_data]    |   Unzipping corpora/cess_esp.zip.\n",
            "[nltk_data]    | Downloading package chat80 to /root/nltk_data...\n",
            "[nltk_data]    |   Unzipping corpora/chat80.zip.\n",
            "[nltk_data]    | Downloading package city_database to\n",
            "[nltk_data]    |     /root/nltk_data...\n",
            "[nltk_data]    |   Unzipping corpora/city_database.zip.\n",
            "[nltk_data]    | Downloading package cmudict to /root/nltk_data...\n",
            "[nltk_data]    |   Unzipping corpora/cmudict.zip.\n",
            "[nltk_data]    | Downloading package comparative_sentences to\n",
            "[nltk_data]    |     /root/nltk_data...\n",
            "[nltk_data]    |   Unzipping corpora/comparative_sentences.zip.\n",
            "[nltk_data]    | Downloading package comtrans to /root/nltk_data...\n",
            "[nltk_data]    | Downloading package conll2000 to /root/nltk_data...\n",
            "[nltk_data]    |   Unzipping corpora/conll2000.zip.\n",
            "[nltk_data]    | Downloading package conll2002 to /root/nltk_data...\n",
            "[nltk_data]    |   Unzipping corpora/conll2002.zip.\n",
            "[nltk_data]    | Downloading package conll2007 to /root/nltk_data...\n",
            "[nltk_data]    | Downloading package crubadan to /root/nltk_data...\n",
            "[nltk_data]    |   Unzipping corpora/crubadan.zip.\n",
            "[nltk_data]    | Downloading package dependency_treebank to\n",
            "[nltk_data]    |     /root/nltk_data...\n",
            "[nltk_data]    |   Unzipping corpora/dependency_treebank.zip.\n",
            "[nltk_data]    | Downloading package dolch to /root/nltk_data...\n",
            "[nltk_data]    |   Unzipping corpora/dolch.zip.\n",
            "[nltk_data]    | Downloading package europarl_raw to\n",
            "[nltk_data]    |     /root/nltk_data...\n",
            "[nltk_data]    |   Unzipping corpora/europarl_raw.zip.\n",
            "[nltk_data]    | Downloading package extended_omw to\n",
            "[nltk_data]    |     /root/nltk_data...\n",
            "[nltk_data]    | Downloading package floresta to /root/nltk_data...\n",
            "[nltk_data]    |   Unzipping corpora/floresta.zip.\n",
            "[nltk_data]    | Downloading package framenet_v15 to\n",
            "[nltk_data]    |     /root/nltk_data...\n",
            "[nltk_data]    |   Unzipping corpora/framenet_v15.zip.\n",
            "[nltk_data]    | Downloading package framenet_v17 to\n",
            "[nltk_data]    |     /root/nltk_data...\n",
            "[nltk_data]    |   Unzipping corpora/framenet_v17.zip.\n",
            "[nltk_data]    | Downloading package gazetteers to /root/nltk_data...\n",
            "[nltk_data]    |   Unzipping corpora/gazetteers.zip.\n",
            "[nltk_data]    | Downloading package genesis to /root/nltk_data...\n",
            "[nltk_data]    |   Unzipping corpora/genesis.zip.\n",
            "[nltk_data]    | Downloading package gutenberg to /root/nltk_data...\n",
            "[nltk_data]    |   Unzipping corpora/gutenberg.zip.\n",
            "[nltk_data]    | Downloading package ieer to /root/nltk_data...\n",
            "[nltk_data]    |   Unzipping corpora/ieer.zip.\n",
            "[nltk_data]    | Downloading package inaugural to /root/nltk_data...\n",
            "[nltk_data]    |   Unzipping corpora/inaugural.zip.\n",
            "[nltk_data]    | Downloading package indian to /root/nltk_data...\n",
            "[nltk_data]    |   Unzipping corpora/indian.zip.\n",
            "[nltk_data]    | Downloading package jeita to /root/nltk_data...\n",
            "[nltk_data]    | Downloading package kimmo to /root/nltk_data...\n",
            "[nltk_data]    |   Unzipping corpora/kimmo.zip.\n",
            "[nltk_data]    | Downloading package knbc to /root/nltk_data...\n",
            "[nltk_data]    | Downloading package large_grammars to\n",
            "[nltk_data]    |     /root/nltk_data...\n",
            "[nltk_data]    |   Unzipping grammars/large_grammars.zip.\n",
            "[nltk_data]    | Downloading package lin_thesaurus to\n",
            "[nltk_data]    |     /root/nltk_data...\n",
            "[nltk_data]    |   Unzipping corpora/lin_thesaurus.zip.\n",
            "[nltk_data]    | Downloading package mac_morpho to /root/nltk_data...\n",
            "[nltk_data]    |   Unzipping corpora/mac_morpho.zip.\n",
            "[nltk_data]    | Downloading package machado to /root/nltk_data...\n",
            "[nltk_data]    | Downloading package masc_tagged to /root/nltk_data...\n",
            "[nltk_data]    | Downloading package maxent_ne_chunker to\n",
            "[nltk_data]    |     /root/nltk_data...\n",
            "[nltk_data]    |   Unzipping chunkers/maxent_ne_chunker.zip.\n",
            "[nltk_data]    | Downloading package maxent_treebank_pos_tagger to\n",
            "[nltk_data]    |     /root/nltk_data...\n",
            "[nltk_data]    |   Unzipping taggers/maxent_treebank_pos_tagger.zip.\n",
            "[nltk_data]    | Downloading package moses_sample to\n",
            "[nltk_data]    |     /root/nltk_data...\n",
            "[nltk_data]    |   Unzipping models/moses_sample.zip.\n",
            "[nltk_data]    | Downloading package movie_reviews to\n",
            "[nltk_data]    |     /root/nltk_data...\n",
            "[nltk_data]    |   Unzipping corpora/movie_reviews.zip.\n",
            "[nltk_data]    | Downloading package mte_teip5 to /root/nltk_data...\n",
            "[nltk_data]    |   Unzipping corpora/mte_teip5.zip.\n",
            "[nltk_data]    | Downloading package mwa_ppdb to /root/nltk_data...\n",
            "[nltk_data]    |   Unzipping misc/mwa_ppdb.zip.\n",
            "[nltk_data]    | Downloading package names to /root/nltk_data...\n",
            "[nltk_data]    |   Unzipping corpora/names.zip.\n",
            "[nltk_data]    | Downloading package nombank.1.0 to /root/nltk_data...\n",
            "[nltk_data]    | Downloading package nonbreaking_prefixes to\n",
            "[nltk_data]    |     /root/nltk_data...\n",
            "[nltk_data]    |   Unzipping corpora/nonbreaking_prefixes.zip.\n",
            "[nltk_data]    | Downloading package nps_chat to /root/nltk_data...\n",
            "[nltk_data]    |   Unzipping corpora/nps_chat.zip.\n",
            "[nltk_data]    | Downloading package omw to /root/nltk_data...\n",
            "[nltk_data]    | Downloading package omw-1.4 to /root/nltk_data...\n",
            "[nltk_data]    | Downloading package opinion_lexicon to\n",
            "[nltk_data]    |     /root/nltk_data...\n",
            "[nltk_data]    |   Unzipping corpora/opinion_lexicon.zip.\n",
            "[nltk_data]    | Downloading package panlex_swadesh to\n",
            "[nltk_data]    |     /root/nltk_data...\n",
            "[nltk_data]    | Downloading package paradigms to /root/nltk_data...\n",
            "[nltk_data]    |   Unzipping corpora/paradigms.zip.\n",
            "[nltk_data]    | Downloading package pe08 to /root/nltk_data...\n",
            "[nltk_data]    |   Unzipping corpora/pe08.zip.\n",
            "[nltk_data]    | Downloading package perluniprops to\n",
            "[nltk_data]    |     /root/nltk_data...\n",
            "[nltk_data]    |   Unzipping misc/perluniprops.zip.\n",
            "[nltk_data]    | Downloading package pil to /root/nltk_data...\n",
            "[nltk_data]    |   Unzipping corpora/pil.zip.\n",
            "[nltk_data]    | Downloading package pl196x to /root/nltk_data...\n",
            "[nltk_data]    |   Unzipping corpora/pl196x.zip.\n",
            "[nltk_data]    | Downloading package porter_test to /root/nltk_data...\n",
            "[nltk_data]    |   Unzipping stemmers/porter_test.zip.\n",
            "[nltk_data]    | Downloading package ppattach to /root/nltk_data...\n",
            "[nltk_data]    |   Unzipping corpora/ppattach.zip.\n",
            "[nltk_data]    | Downloading package problem_reports to\n",
            "[nltk_data]    |     /root/nltk_data...\n",
            "[nltk_data]    |   Unzipping corpora/problem_reports.zip.\n",
            "[nltk_data]    | Downloading package product_reviews_1 to\n",
            "[nltk_data]    |     /root/nltk_data...\n",
            "[nltk_data]    |   Unzipping corpora/product_reviews_1.zip.\n",
            "[nltk_data]    | Downloading package product_reviews_2 to\n",
            "[nltk_data]    |     /root/nltk_data...\n",
            "[nltk_data]    |   Unzipping corpora/product_reviews_2.zip.\n",
            "[nltk_data]    | Downloading package propbank to /root/nltk_data...\n",
            "[nltk_data]    | Downloading package pros_cons to /root/nltk_data...\n",
            "[nltk_data]    |   Unzipping corpora/pros_cons.zip.\n",
            "[nltk_data]    | Downloading package ptb to /root/nltk_data...\n",
            "[nltk_data]    |   Unzipping corpora/ptb.zip.\n",
            "[nltk_data]    | Downloading package punkt to /root/nltk_data...\n",
            "[nltk_data]    |   Unzipping tokenizers/punkt.zip.\n",
            "[nltk_data]    | Downloading package qc to /root/nltk_data...\n",
            "[nltk_data]    |   Unzipping corpora/qc.zip.\n",
            "[nltk_data]    | Downloading package reuters to /root/nltk_data...\n",
            "[nltk_data]    | Downloading package rslp to /root/nltk_data...\n",
            "[nltk_data]    |   Unzipping stemmers/rslp.zip.\n",
            "[nltk_data]    | Downloading package rte to /root/nltk_data...\n",
            "[nltk_data]    |   Unzipping corpora/rte.zip.\n",
            "[nltk_data]    | Downloading package sample_grammars to\n",
            "[nltk_data]    |     /root/nltk_data...\n",
            "[nltk_data]    |   Unzipping grammars/sample_grammars.zip.\n",
            "[nltk_data]    | Downloading package semcor to /root/nltk_data...\n",
            "[nltk_data]    | Downloading package senseval to /root/nltk_data...\n",
            "[nltk_data]    |   Unzipping corpora/senseval.zip.\n",
            "[nltk_data]    | Downloading package sentence_polarity to\n",
            "[nltk_data]    |     /root/nltk_data...\n",
            "[nltk_data]    |   Unzipping corpora/sentence_polarity.zip.\n",
            "[nltk_data]    | Downloading package sentiwordnet to\n",
            "[nltk_data]    |     /root/nltk_data...\n",
            "[nltk_data]    |   Unzipping corpora/sentiwordnet.zip.\n",
            "[nltk_data]    | Downloading package shakespeare to /root/nltk_data...\n",
            "[nltk_data]    |   Unzipping corpora/shakespeare.zip.\n",
            "[nltk_data]    | Downloading package sinica_treebank to\n",
            "[nltk_data]    |     /root/nltk_data...\n",
            "[nltk_data]    |   Unzipping corpora/sinica_treebank.zip.\n",
            "[nltk_data]    | Downloading package smultron to /root/nltk_data...\n",
            "[nltk_data]    |   Unzipping corpora/smultron.zip.\n",
            "[nltk_data]    | Downloading package snowball_data to\n",
            "[nltk_data]    |     /root/nltk_data...\n",
            "[nltk_data]    | Downloading package spanish_grammars to\n",
            "[nltk_data]    |     /root/nltk_data...\n",
            "[nltk_data]    |   Unzipping grammars/spanish_grammars.zip.\n",
            "[nltk_data]    | Downloading package state_union to /root/nltk_data...\n",
            "[nltk_data]    |   Unzipping corpora/state_union.zip.\n",
            "[nltk_data]    | Downloading package stopwords to /root/nltk_data...\n",
            "[nltk_data]    |   Unzipping corpora/stopwords.zip.\n",
            "[nltk_data]    | Downloading package subjectivity to\n",
            "[nltk_data]    |     /root/nltk_data...\n",
            "[nltk_data]    |   Unzipping corpora/subjectivity.zip.\n",
            "[nltk_data]    | Downloading package swadesh to /root/nltk_data...\n",
            "[nltk_data]    |   Unzipping corpora/swadesh.zip.\n",
            "[nltk_data]    | Downloading package switchboard to /root/nltk_data...\n",
            "[nltk_data]    |   Unzipping corpora/switchboard.zip.\n",
            "[nltk_data]    | Downloading package tagsets to /root/nltk_data...\n",
            "[nltk_data]    |   Unzipping help/tagsets.zip.\n",
            "[nltk_data]    | Downloading package timit to /root/nltk_data...\n",
            "[nltk_data]    |   Unzipping corpora/timit.zip.\n",
            "[nltk_data]    | Downloading package toolbox to /root/nltk_data...\n",
            "[nltk_data]    |   Unzipping corpora/toolbox.zip.\n",
            "[nltk_data]    | Downloading package treebank to /root/nltk_data...\n",
            "[nltk_data]    |   Unzipping corpora/treebank.zip.\n",
            "[nltk_data]    | Downloading package twitter_samples to\n",
            "[nltk_data]    |     /root/nltk_data...\n",
            "[nltk_data]    |   Unzipping corpora/twitter_samples.zip.\n",
            "[nltk_data]    | Downloading package udhr to /root/nltk_data...\n",
            "[nltk_data]    |   Unzipping corpora/udhr.zip.\n",
            "[nltk_data]    | Downloading package udhr2 to /root/nltk_data...\n",
            "[nltk_data]    |   Unzipping corpora/udhr2.zip.\n",
            "[nltk_data]    | Downloading package unicode_samples to\n",
            "[nltk_data]    |     /root/nltk_data...\n",
            "[nltk_data]    |   Unzipping corpora/unicode_samples.zip.\n",
            "[nltk_data]    | Downloading package universal_tagset to\n",
            "[nltk_data]    |     /root/nltk_data...\n",
            "[nltk_data]    |   Unzipping taggers/universal_tagset.zip.\n",
            "[nltk_data]    | Downloading package universal_treebanks_v20 to\n",
            "[nltk_data]    |     /root/nltk_data...\n",
            "[nltk_data]    | Downloading package vader_lexicon to\n",
            "[nltk_data]    |     /root/nltk_data...\n",
            "[nltk_data]    | Downloading package verbnet to /root/nltk_data...\n",
            "[nltk_data]    |   Unzipping corpora/verbnet.zip.\n",
            "[nltk_data]    | Downloading package verbnet3 to /root/nltk_data...\n",
            "[nltk_data]    |   Unzipping corpora/verbnet3.zip.\n",
            "[nltk_data]    | Downloading package webtext to /root/nltk_data...\n",
            "[nltk_data]    |   Unzipping corpora/webtext.zip.\n",
            "[nltk_data]    | Downloading package wmt15_eval to /root/nltk_data...\n",
            "[nltk_data]    |   Unzipping models/wmt15_eval.zip.\n",
            "[nltk_data]    | Downloading package word2vec_sample to\n",
            "[nltk_data]    |     /root/nltk_data...\n",
            "[nltk_data]    |   Unzipping models/word2vec_sample.zip.\n",
            "[nltk_data]    | Downloading package wordnet to /root/nltk_data...\n",
            "[nltk_data]    | Downloading package wordnet2021 to /root/nltk_data...\n",
            "[nltk_data]    | Downloading package wordnet31 to /root/nltk_data...\n",
            "[nltk_data]    | Downloading package wordnet_ic to /root/nltk_data...\n",
            "[nltk_data]    |   Unzipping corpora/wordnet_ic.zip.\n",
            "[nltk_data]    | Downloading package words to /root/nltk_data...\n",
            "[nltk_data]    |   Unzipping corpora/words.zip.\n",
            "[nltk_data]    | Downloading package ycoe to /root/nltk_data...\n",
            "[nltk_data]    |   Unzipping corpora/ycoe.zip.\n",
            "[nltk_data]    | \n",
            "[nltk_data]  Done downloading collection all\n"
          ]
        },
        {
          "output_type": "execute_result",
          "data": {
            "text/plain": [
              "True"
            ]
          },
          "metadata": {},
          "execution_count": 17
        }
      ]
    },
    {
      "cell_type": "code",
      "source": [
        "! unzip /root/nltk_data/corpora/machado.zip"
      ],
      "metadata": {
        "id": "1X6sFs6XIJxl",
        "colab": {
          "base_uri": "https://localhost:8080/"
        },
        "outputId": "d64f6d24-ab29-4f73-d239-f651f5bdcc24"
      },
      "execution_count": 18,
      "outputs": [
        {
          "output_type": "stream",
          "name": "stdout",
          "text": [
            "Archive:  /root/nltk_data/corpora/machado.zip\n",
            "   creating: machado/\n",
            "  inflating: machado/CONTENTS        \n",
            "   creating: machado/contos/\n",
            "  inflating: machado/contos/macn001.txt  \n",
            "  inflating: machado/contos/macn002.txt  \n",
            "  inflating: machado/contos/macn003.txt  \n",
            "  inflating: machado/contos/macn004.txt  \n",
            "  inflating: machado/contos/macn005.txt  \n",
            "  inflating: machado/contos/macn006.txt  \n",
            "  inflating: machado/contos/macn007.txt  \n",
            "  inflating: machado/contos/macn008.txt  \n",
            "  inflating: machado/contos/macn009.txt  \n",
            "  inflating: machado/contos/macn010.txt  \n",
            "  inflating: machado/contos/macn011.txt  \n",
            "  inflating: machado/contos/macn012.txt  \n",
            "  inflating: machado/contos/macn013.txt  \n",
            "  inflating: machado/contos/macn014.txt  \n",
            "  inflating: machado/contos/macn015.txt  \n",
            "  inflating: machado/contos/macn016.txt  \n",
            "  inflating: machado/contos/macn017.txt  \n",
            "  inflating: machado/contos/macn018.txt  \n",
            "  inflating: machado/contos/macn019.txt  \n",
            "  inflating: machado/contos/macn020.txt  \n",
            "  inflating: machado/contos/macn021.txt  \n",
            "  inflating: machado/contos/macn022.txt  \n",
            "  inflating: machado/contos/macn023.txt  \n",
            "  inflating: machado/contos/macn024.txt  \n",
            "  inflating: machado/contos/macn025.txt  \n",
            "  inflating: machado/contos/macn026.txt  \n",
            "  inflating: machado/contos/macn027.txt  \n",
            "  inflating: machado/contos/macn028.txt  \n",
            "  inflating: machado/contos/macn029.txt  \n",
            "  inflating: machado/contos/macn030.txt  \n",
            "  inflating: machado/contos/macn031.txt  \n",
            "  inflating: machado/contos/macn032.txt  \n",
            "  inflating: machado/contos/macn033.txt  \n",
            "  inflating: machado/contos/macn034.txt  \n",
            "  inflating: machado/contos/macn035.txt  \n",
            "  inflating: machado/contos/macn036.txt  \n",
            "  inflating: machado/contos/macn037.txt  \n",
            "  inflating: machado/contos/macn038.txt  \n",
            "  inflating: machado/contos/macn039.txt  \n",
            "  inflating: machado/contos/macn040.txt  \n",
            "  inflating: machado/contos/macn041.txt  \n",
            "  inflating: machado/contos/macn042.txt  \n",
            "  inflating: machado/contos/macn043.txt  \n",
            "  inflating: machado/contos/macn044.txt  \n",
            "  inflating: machado/contos/macn045.txt  \n",
            "  inflating: machado/contos/macn046.txt  \n",
            "  inflating: machado/contos/macn047.txt  \n",
            "  inflating: machado/contos/macn048.txt  \n",
            "  inflating: machado/contos/macn049.txt  \n",
            "  inflating: machado/contos/macn050.txt  \n",
            "  inflating: machado/contos/macn051.txt  \n",
            "  inflating: machado/contos/macn052.txt  \n",
            "  inflating: machado/contos/macn053.txt  \n",
            "  inflating: machado/contos/macn054.txt  \n",
            "  inflating: machado/contos/macn055.txt  \n",
            "  inflating: machado/contos/macn056.txt  \n",
            "  inflating: machado/contos/macn057.txt  \n",
            "  inflating: machado/contos/macn058.txt  \n",
            "  inflating: machado/contos/macn059.txt  \n",
            "  inflating: machado/contos/macn060.txt  \n",
            "  inflating: machado/contos/macn061.txt  \n",
            "  inflating: machado/contos/macn062.txt  \n",
            "  inflating: machado/contos/macn063.txt  \n",
            "  inflating: machado/contos/macn064.txt  \n",
            "  inflating: machado/contos/macn065.txt  \n",
            "  inflating: machado/contos/macn066.txt  \n",
            "  inflating: machado/contos/macn067.txt  \n",
            "  inflating: machado/contos/macn068.txt  \n",
            "  inflating: machado/contos/macn069.txt  \n",
            "  inflating: machado/contos/macn070.txt  \n",
            "  inflating: machado/contos/macn071.txt  \n",
            "  inflating: machado/contos/macn072.txt  \n",
            "  inflating: machado/contos/macn073.txt  \n",
            "  inflating: machado/contos/macn074.txt  \n",
            "  inflating: machado/contos/macn075.txt  \n",
            "  inflating: machado/contos/macn076.txt  \n",
            "  inflating: machado/contos/macn077.txt  \n",
            "  inflating: machado/contos/macn078.txt  \n",
            "  inflating: machado/contos/macn079.txt  \n",
            "  inflating: machado/contos/macn080.txt  \n",
            "  inflating: machado/contos/macn081.txt  \n",
            "  inflating: machado/contos/macn082.txt  \n",
            "  inflating: machado/contos/macn083.txt  \n",
            "  inflating: machado/contos/macn084.txt  \n",
            "  inflating: machado/contos/macn085.txt  \n",
            "  inflating: machado/contos/macn086.txt  \n",
            "  inflating: machado/contos/macn087.txt  \n",
            "  inflating: machado/contos/macn088.txt  \n",
            "  inflating: machado/contos/macn089.txt  \n",
            "  inflating: machado/contos/macn090.txt  \n",
            "  inflating: machado/contos/macn091.txt  \n",
            "  inflating: machado/contos/macn092.txt  \n",
            "  inflating: machado/contos/macn093.txt  \n",
            "  inflating: machado/contos/macn094.txt  \n",
            "  inflating: machado/contos/macn095.txt  \n",
            "  inflating: machado/contos/macn096.txt  \n",
            "  inflating: machado/contos/macn097.txt  \n",
            "  inflating: machado/contos/macn098.txt  \n",
            "  inflating: machado/contos/macn099.txt  \n",
            "  inflating: machado/contos/macn100.txt  \n",
            "  inflating: machado/contos/macn101.txt  \n",
            "  inflating: machado/contos/macn102.txt  \n",
            "  inflating: machado/contos/macn103.txt  \n",
            "  inflating: machado/contos/macn104.txt  \n",
            "  inflating: machado/contos/macn105.txt  \n",
            "  inflating: machado/contos/macn106.txt  \n",
            "  inflating: machado/contos/macn107.txt  \n",
            "  inflating: machado/contos/macn108.txt  \n",
            "  inflating: machado/contos/macn109.txt  \n",
            "  inflating: machado/contos/macn110.txt  \n",
            "  inflating: machado/contos/macn111.txt  \n",
            "  inflating: machado/contos/macn112.txt  \n",
            "  inflating: machado/contos/macn113.txt  \n",
            "  inflating: machado/contos/macn114.txt  \n",
            "  inflating: machado/contos/macn115.txt  \n",
            "  inflating: machado/contos/macn116.txt  \n",
            "  inflating: machado/contos/macn117.txt  \n",
            "  inflating: machado/contos/macn118.txt  \n",
            "  inflating: machado/contos/macn119.txt  \n",
            "  inflating: machado/contos/macn120.txt  \n",
            "  inflating: machado/contos/macn121.txt  \n",
            "  inflating: machado/contos/macn122.txt  \n",
            "  inflating: machado/contos/macn123.txt  \n",
            "  inflating: machado/contos/macn124.txt  \n",
            "  inflating: machado/contos/macn125.txt  \n",
            "  inflating: machado/contos/macn126.txt  \n",
            "  inflating: machado/contos/macn127.txt  \n",
            "  inflating: machado/contos/macn128.txt  \n",
            "  inflating: machado/contos/macn129.txt  \n",
            "  inflating: machado/contos/macn130.txt  \n",
            "  inflating: machado/contos/macn131.txt  \n",
            "  inflating: machado/contos/macn132.txt  \n",
            "  inflating: machado/contos/macn133.txt  \n",
            "  inflating: machado/contos/macn134.txt  \n",
            "  inflating: machado/contos/macn135.txt  \n",
            "  inflating: machado/contos/macn136.txt  \n",
            "  inflating: machado/contos/macn137.txt  \n",
            "   creating: machado/critica/\n",
            "  inflating: machado/critica/mact01.txt  \n",
            "  inflating: machado/critica/mact02.txt  \n",
            "  inflating: machado/critica/mact03.txt  \n",
            "  inflating: machado/critica/mact04.txt  \n",
            "  inflating: machado/critica/mact05.txt  \n",
            "  inflating: machado/critica/mact06.txt  \n",
            "  inflating: machado/critica/mact07.txt  \n",
            "  inflating: machado/critica/mact08.txt  \n",
            "  inflating: machado/critica/mact09.txt  \n",
            "  inflating: machado/critica/mact10.txt  \n",
            "  inflating: machado/critica/mact11.txt  \n",
            "  inflating: machado/critica/mact12.txt  \n",
            "  inflating: machado/critica/mact13.txt  \n",
            "  inflating: machado/critica/mact14.txt  \n",
            "  inflating: machado/critica/mact15.txt  \n",
            "  inflating: machado/critica/mact16.txt  \n",
            "  inflating: machado/critica/mact17.txt  \n",
            "  inflating: machado/critica/mact18.txt  \n",
            "  inflating: machado/critica/mact19.txt  \n",
            "  inflating: machado/critica/mact20.txt  \n",
            "  inflating: machado/critica/mact21.txt  \n",
            "  inflating: machado/critica/mact22.txt  \n",
            "  inflating: machado/critica/mact23.txt  \n",
            "  inflating: machado/critica/mact24.txt  \n",
            "  inflating: machado/critica/mact25.txt  \n",
            "  inflating: machado/critica/mact26.txt  \n",
            "  inflating: machado/critica/mact27.txt  \n",
            "  inflating: machado/critica/mact28.txt  \n",
            "  inflating: machado/critica/mact29.txt  \n",
            "  inflating: machado/critica/mact30.txt  \n",
            "  inflating: machado/critica/mact31.txt  \n",
            "  inflating: machado/critica/mact32.txt  \n",
            "  inflating: machado/critica/mact33.txt  \n",
            "  inflating: machado/critica/mact34.txt  \n",
            "  inflating: machado/critica/mact35.txt  \n",
            "  inflating: machado/critica/mact36.txt  \n",
            "  inflating: machado/critica/mact37.txt  \n",
            "  inflating: machado/critica/mact38.txt  \n",
            "  inflating: machado/critica/mact39.txt  \n",
            "  inflating: machado/critica/mact40.txt  \n",
            "  inflating: machado/critica/mact41.txt  \n",
            "  inflating: machado/critica/mact42.txt  \n",
            "  inflating: machado/critica/mact43.txt  \n",
            "  inflating: machado/critica/mact44.txt  \n",
            "  inflating: machado/critica/mact45.txt  \n",
            "   creating: machado/cronica/\n",
            "  inflating: machado/cronica/macr01.txt  \n",
            "  inflating: machado/cronica/macr02.txt  \n",
            "  inflating: machado/cronica/macr03.txt  \n",
            "  inflating: machado/cronica/macr04.txt  \n",
            "  inflating: machado/cronica/macr05.txt  \n",
            "  inflating: machado/cronica/macr06.txt  \n",
            "  inflating: machado/cronica/macr07.txt  \n",
            "  inflating: machado/cronica/macr08.txt  \n",
            "  inflating: machado/cronica/macr09.txt  \n",
            "  inflating: machado/cronica/macr10.txt  \n",
            "  inflating: machado/cronica/macr11.txt  \n",
            "  inflating: machado/cronica/macr12.txt  \n",
            "  inflating: machado/cronica/macr13.txt  \n",
            "  inflating: machado/cronica/macr14.txt  \n",
            "  inflating: machado/cronica/macr15.txt  \n",
            "  inflating: machado/cronica/macr16.txt  \n",
            "  inflating: machado/cronica/macr17.txt  \n",
            "  inflating: machado/cronica/macr18.txt  \n",
            "  inflating: machado/cronica/macr19.txt  \n",
            "  inflating: machado/cronica/macr20.txt  \n",
            "  inflating: machado/cronica/macr21.txt  \n",
            "  inflating: machado/cronica/macr22.txt  \n",
            "  inflating: machado/cronica/macr23.txt  \n",
            "  inflating: machado/cronica/macr24.txt  \n",
            "   creating: machado/miscelanea/\n",
            "  inflating: machado/miscelanea/mams01.txt  \n",
            "  inflating: machado/miscelanea/mams02.txt  \n",
            "  inflating: machado/miscelanea/mams03.txt  \n",
            "  inflating: machado/miscelanea/mams04.txt  \n",
            "  inflating: machado/miscelanea/mams05.txt  \n",
            "  inflating: machado/miscelanea/mams06.txt  \n",
            "  inflating: machado/miscelanea/mams07.txt  \n",
            "  inflating: machado/miscelanea/mams08.txt  \n",
            "  inflating: machado/miscelanea/mams09.txt  \n",
            "  inflating: machado/miscelanea/mams10.txt  \n",
            "   creating: machado/poesia/\n",
            "  inflating: machado/poesia/maps01.txt  \n",
            "  inflating: machado/poesia/maps02.txt  \n",
            "  inflating: machado/poesia/maps03.txt  \n",
            "  inflating: machado/poesia/maps04.txt  \n",
            "  inflating: machado/poesia/maps05.txt  \n",
            "  inflating: machado/poesia/maps06.txt  \n",
            "  inflating: machado/poesia/maps07.txt  \n",
            "  inflating: machado/README          \n",
            "   creating: machado/romance/\n",
            "  inflating: machado/romance/marm01.txt  \n",
            "  inflating: machado/romance/marm02.txt  \n",
            "  inflating: machado/romance/marm03.txt  \n",
            "  inflating: machado/romance/marm04.txt  \n",
            "  inflating: machado/romance/marm05.txt  \n",
            "  inflating: machado/romance/marm06.txt  \n",
            "  inflating: machado/romance/marm07.txt  \n",
            "  inflating: machado/romance/marm08.txt  \n",
            "  inflating: machado/romance/marm09.txt  \n",
            "  inflating: machado/romance/marm10.txt  \n",
            "   creating: machado/teatro/\n",
            "  inflating: machado/teatro/matt01.txt  \n",
            "  inflating: machado/teatro/matt02.txt  \n",
            "  inflating: machado/teatro/matt03.txt  \n",
            "  inflating: machado/teatro/matt04.txt  \n",
            "  inflating: machado/teatro/matt05.txt  \n",
            "  inflating: machado/teatro/matt06.txt  \n",
            "  inflating: machado/teatro/matt07.txt  \n",
            "  inflating: machado/teatro/matt08.txt  \n",
            "  inflating: machado/teatro/matt09.txt  \n",
            "  inflating: machado/teatro/matt10.txt  \n",
            "   creating: machado/traducao/\n",
            "  inflating: machado/traducao/matr01.txt  \n",
            "  inflating: machado/traducao/matr02.txt  \n",
            "  inflating: machado/traducao/matr03.txt  \n"
          ]
        }
      ]
    },
    {
      "cell_type": "code",
      "source": [
        "! mv /content/machado /root/nltk_data/corpora/"
      ],
      "metadata": {
        "id": "j0-bmlQgJF6_"
      },
      "execution_count": 19,
      "outputs": []
    },
    {
      "cell_type": "code",
      "source": [
        "from nltk.corpus import machado"
      ],
      "metadata": {
        "id": "_wwCmFLkGZwt"
      },
      "execution_count": 20,
      "outputs": []
    },
    {
      "cell_type": "code",
      "source": [
        "machado.fileids()"
      ],
      "metadata": {
        "id": "OqDAZY7BHJPI",
        "colab": {
          "base_uri": "https://localhost:8080/"
        },
        "outputId": "6586aa10-889a-4650-9e5e-68142760e655"
      },
      "execution_count": 21,
      "outputs": [
        {
          "output_type": "execute_result",
          "data": {
            "text/plain": [
              "['contos/macn001.txt',\n",
              " 'contos/macn002.txt',\n",
              " 'contos/macn003.txt',\n",
              " 'contos/macn004.txt',\n",
              " 'contos/macn005.txt',\n",
              " 'contos/macn006.txt',\n",
              " 'contos/macn007.txt',\n",
              " 'contos/macn008.txt',\n",
              " 'contos/macn009.txt',\n",
              " 'contos/macn010.txt',\n",
              " 'contos/macn011.txt',\n",
              " 'contos/macn012.txt',\n",
              " 'contos/macn013.txt',\n",
              " 'contos/macn014.txt',\n",
              " 'contos/macn015.txt',\n",
              " 'contos/macn016.txt',\n",
              " 'contos/macn017.txt',\n",
              " 'contos/macn018.txt',\n",
              " 'contos/macn019.txt',\n",
              " 'contos/macn020.txt',\n",
              " 'contos/macn021.txt',\n",
              " 'contos/macn022.txt',\n",
              " 'contos/macn023.txt',\n",
              " 'contos/macn024.txt',\n",
              " 'contos/macn025.txt',\n",
              " 'contos/macn026.txt',\n",
              " 'contos/macn027.txt',\n",
              " 'contos/macn028.txt',\n",
              " 'contos/macn029.txt',\n",
              " 'contos/macn030.txt',\n",
              " 'contos/macn031.txt',\n",
              " 'contos/macn032.txt',\n",
              " 'contos/macn033.txt',\n",
              " 'contos/macn034.txt',\n",
              " 'contos/macn035.txt',\n",
              " 'contos/macn036.txt',\n",
              " 'contos/macn037.txt',\n",
              " 'contos/macn038.txt',\n",
              " 'contos/macn039.txt',\n",
              " 'contos/macn040.txt',\n",
              " 'contos/macn041.txt',\n",
              " 'contos/macn042.txt',\n",
              " 'contos/macn043.txt',\n",
              " 'contos/macn044.txt',\n",
              " 'contos/macn045.txt',\n",
              " 'contos/macn046.txt',\n",
              " 'contos/macn047.txt',\n",
              " 'contos/macn048.txt',\n",
              " 'contos/macn049.txt',\n",
              " 'contos/macn050.txt',\n",
              " 'contos/macn051.txt',\n",
              " 'contos/macn052.txt',\n",
              " 'contos/macn053.txt',\n",
              " 'contos/macn054.txt',\n",
              " 'contos/macn055.txt',\n",
              " 'contos/macn056.txt',\n",
              " 'contos/macn057.txt',\n",
              " 'contos/macn058.txt',\n",
              " 'contos/macn059.txt',\n",
              " 'contos/macn060.txt',\n",
              " 'contos/macn061.txt',\n",
              " 'contos/macn062.txt',\n",
              " 'contos/macn063.txt',\n",
              " 'contos/macn064.txt',\n",
              " 'contos/macn065.txt',\n",
              " 'contos/macn066.txt',\n",
              " 'contos/macn067.txt',\n",
              " 'contos/macn068.txt',\n",
              " 'contos/macn069.txt',\n",
              " 'contos/macn070.txt',\n",
              " 'contos/macn071.txt',\n",
              " 'contos/macn072.txt',\n",
              " 'contos/macn073.txt',\n",
              " 'contos/macn074.txt',\n",
              " 'contos/macn075.txt',\n",
              " 'contos/macn076.txt',\n",
              " 'contos/macn077.txt',\n",
              " 'contos/macn078.txt',\n",
              " 'contos/macn079.txt',\n",
              " 'contos/macn080.txt',\n",
              " 'contos/macn081.txt',\n",
              " 'contos/macn082.txt',\n",
              " 'contos/macn083.txt',\n",
              " 'contos/macn084.txt',\n",
              " 'contos/macn085.txt',\n",
              " 'contos/macn086.txt',\n",
              " 'contos/macn087.txt',\n",
              " 'contos/macn088.txt',\n",
              " 'contos/macn089.txt',\n",
              " 'contos/macn090.txt',\n",
              " 'contos/macn091.txt',\n",
              " 'contos/macn092.txt',\n",
              " 'contos/macn093.txt',\n",
              " 'contos/macn094.txt',\n",
              " 'contos/macn095.txt',\n",
              " 'contos/macn096.txt',\n",
              " 'contos/macn097.txt',\n",
              " 'contos/macn098.txt',\n",
              " 'contos/macn099.txt',\n",
              " 'contos/macn100.txt',\n",
              " 'contos/macn101.txt',\n",
              " 'contos/macn102.txt',\n",
              " 'contos/macn103.txt',\n",
              " 'contos/macn104.txt',\n",
              " 'contos/macn105.txt',\n",
              " 'contos/macn106.txt',\n",
              " 'contos/macn107.txt',\n",
              " 'contos/macn108.txt',\n",
              " 'contos/macn109.txt',\n",
              " 'contos/macn110.txt',\n",
              " 'contos/macn111.txt',\n",
              " 'contos/macn112.txt',\n",
              " 'contos/macn113.txt',\n",
              " 'contos/macn114.txt',\n",
              " 'contos/macn115.txt',\n",
              " 'contos/macn116.txt',\n",
              " 'contos/macn117.txt',\n",
              " 'contos/macn118.txt',\n",
              " 'contos/macn119.txt',\n",
              " 'contos/macn120.txt',\n",
              " 'contos/macn121.txt',\n",
              " 'contos/macn122.txt',\n",
              " 'contos/macn123.txt',\n",
              " 'contos/macn124.txt',\n",
              " 'contos/macn125.txt',\n",
              " 'contos/macn126.txt',\n",
              " 'contos/macn127.txt',\n",
              " 'contos/macn128.txt',\n",
              " 'contos/macn129.txt',\n",
              " 'contos/macn130.txt',\n",
              " 'contos/macn131.txt',\n",
              " 'contos/macn132.txt',\n",
              " 'contos/macn133.txt',\n",
              " 'contos/macn134.txt',\n",
              " 'contos/macn135.txt',\n",
              " 'contos/macn136.txt',\n",
              " 'contos/macn137.txt',\n",
              " 'critica/mact01.txt',\n",
              " 'critica/mact02.txt',\n",
              " 'critica/mact03.txt',\n",
              " 'critica/mact04.txt',\n",
              " 'critica/mact05.txt',\n",
              " 'critica/mact06.txt',\n",
              " 'critica/mact07.txt',\n",
              " 'critica/mact08.txt',\n",
              " 'critica/mact09.txt',\n",
              " 'critica/mact10.txt',\n",
              " 'critica/mact11.txt',\n",
              " 'critica/mact12.txt',\n",
              " 'critica/mact13.txt',\n",
              " 'critica/mact14.txt',\n",
              " 'critica/mact15.txt',\n",
              " 'critica/mact16.txt',\n",
              " 'critica/mact17.txt',\n",
              " 'critica/mact18.txt',\n",
              " 'critica/mact19.txt',\n",
              " 'critica/mact20.txt',\n",
              " 'critica/mact21.txt',\n",
              " 'critica/mact22.txt',\n",
              " 'critica/mact23.txt',\n",
              " 'critica/mact24.txt',\n",
              " 'critica/mact25.txt',\n",
              " 'critica/mact26.txt',\n",
              " 'critica/mact27.txt',\n",
              " 'critica/mact28.txt',\n",
              " 'critica/mact29.txt',\n",
              " 'critica/mact30.txt',\n",
              " 'critica/mact31.txt',\n",
              " 'critica/mact32.txt',\n",
              " 'critica/mact33.txt',\n",
              " 'critica/mact34.txt',\n",
              " 'critica/mact35.txt',\n",
              " 'critica/mact36.txt',\n",
              " 'critica/mact37.txt',\n",
              " 'critica/mact38.txt',\n",
              " 'critica/mact39.txt',\n",
              " 'critica/mact40.txt',\n",
              " 'critica/mact41.txt',\n",
              " 'critica/mact42.txt',\n",
              " 'critica/mact43.txt',\n",
              " 'critica/mact44.txt',\n",
              " 'critica/mact45.txt',\n",
              " 'cronica/macr01.txt',\n",
              " 'cronica/macr02.txt',\n",
              " 'cronica/macr03.txt',\n",
              " 'cronica/macr04.txt',\n",
              " 'cronica/macr05.txt',\n",
              " 'cronica/macr06.txt',\n",
              " 'cronica/macr07.txt',\n",
              " 'cronica/macr08.txt',\n",
              " 'cronica/macr09.txt',\n",
              " 'cronica/macr10.txt',\n",
              " 'cronica/macr11.txt',\n",
              " 'cronica/macr12.txt',\n",
              " 'cronica/macr13.txt',\n",
              " 'cronica/macr14.txt',\n",
              " 'cronica/macr15.txt',\n",
              " 'cronica/macr16.txt',\n",
              " 'cronica/macr17.txt',\n",
              " 'cronica/macr18.txt',\n",
              " 'cronica/macr19.txt',\n",
              " 'cronica/macr20.txt',\n",
              " 'cronica/macr21.txt',\n",
              " 'cronica/macr22.txt',\n",
              " 'cronica/macr23.txt',\n",
              " 'cronica/macr24.txt',\n",
              " 'miscelanea/mams01.txt',\n",
              " 'miscelanea/mams02.txt',\n",
              " 'miscelanea/mams03.txt',\n",
              " 'miscelanea/mams04.txt',\n",
              " 'miscelanea/mams05.txt',\n",
              " 'miscelanea/mams06.txt',\n",
              " 'miscelanea/mams07.txt',\n",
              " 'miscelanea/mams08.txt',\n",
              " 'miscelanea/mams09.txt',\n",
              " 'miscelanea/mams10.txt',\n",
              " 'poesia/maps01.txt',\n",
              " 'poesia/maps02.txt',\n",
              " 'poesia/maps03.txt',\n",
              " 'poesia/maps04.txt',\n",
              " 'poesia/maps05.txt',\n",
              " 'poesia/maps06.txt',\n",
              " 'poesia/maps07.txt',\n",
              " 'romance/marm01.txt',\n",
              " 'romance/marm02.txt',\n",
              " 'romance/marm03.txt',\n",
              " 'romance/marm04.txt',\n",
              " 'romance/marm05.txt',\n",
              " 'romance/marm06.txt',\n",
              " 'romance/marm07.txt',\n",
              " 'romance/marm08.txt',\n",
              " 'romance/marm09.txt',\n",
              " 'romance/marm10.txt',\n",
              " 'teatro/matt01.txt',\n",
              " 'teatro/matt02.txt',\n",
              " 'teatro/matt03.txt',\n",
              " 'teatro/matt04.txt',\n",
              " 'teatro/matt05.txt',\n",
              " 'teatro/matt06.txt',\n",
              " 'teatro/matt07.txt',\n",
              " 'teatro/matt08.txt',\n",
              " 'teatro/matt09.txt',\n",
              " 'teatro/matt10.txt',\n",
              " 'traducao/matr01.txt',\n",
              " 'traducao/matr02.txt',\n",
              " 'traducao/matr03.txt']"
            ]
          },
          "metadata": {},
          "execution_count": 21
        }
      ]
    },
    {
      "cell_type": "code",
      "source": [
        "raw_text = machado.raw('romance/marm05.txt')"
      ],
      "metadata": {
        "id": "BCK8z7tbJwgt"
      },
      "execution_count": 22,
      "outputs": []
    },
    {
      "cell_type": "code",
      "source": [
        "raw_text[5600:5800]"
      ],
      "metadata": {
        "id": "7QQGVg_oJ0BM",
        "colab": {
          "base_uri": "https://localhost:8080/",
          "height": 35
        },
        "outputId": "02c99e39-b83b-4b04-dc18-b2876d231f43"
      },
      "execution_count": 23,
      "outputs": [
        {
          "output_type": "execute_result",
          "data": {
            "text/plain": [
              "'essa anônima, ainda que não parenta, padeceu mais do que as parentas.\\nÉ verdade, padeceu mais. Não digo que se carpisse, não digo que se deixasse\\nrolar pelo chão, convulsa. Nem o meu óbito era coisa a'"
            ],
            "application/vnd.google.colaboratory.intrinsic+json": {
              "type": "string"
            }
          },
          "metadata": {},
          "execution_count": 23
        }
      ]
    },
    {
      "cell_type": "code",
      "source": [
        "texto1 = machado.words('romance/marm05.txt')"
      ],
      "metadata": {
        "id": "z6QqpBrtgr8b"
      },
      "execution_count": 24,
      "outputs": []
    },
    {
      "cell_type": "code",
      "source": [
        "texto1"
      ],
      "metadata": {
        "id": "U7JLjnhqhQvI",
        "colab": {
          "base_uri": "https://localhost:8080/"
        },
        "outputId": "a8696ef2-81ab-42d5-eb54-b83fb7687e15"
      },
      "execution_count": 25,
      "outputs": [
        {
          "output_type": "execute_result",
          "data": {
            "text/plain": [
              "['Romance', ',', 'Memórias', 'Póstumas', 'de', 'Brás', ...]"
            ]
          },
          "metadata": {},
          "execution_count": 25
        }
      ]
    },
    {
      "cell_type": "code",
      "source": [
        "len(texto1)"
      ],
      "metadata": {
        "id": "ypXXYKm9hS1U",
        "colab": {
          "base_uri": "https://localhost:8080/"
        },
        "outputId": "a01674e1-5a8f-464c-b879-03cc00806e31"
      },
      "execution_count": 26,
      "outputs": [
        {
          "output_type": "execute_result",
          "data": {
            "text/plain": [
              "77098"
            ]
          },
          "metadata": {},
          "execution_count": 26
        }
      ]
    },
    {
      "cell_type": "code",
      "source": [
        "from nltk.text import Text\n"
      ],
      "metadata": {
        "id": "AjJDfWd2hUGy"
      },
      "execution_count": 27,
      "outputs": []
    },
    {
      "cell_type": "code",
      "source": [
        "bras = Text(machado.words('romance/marm05.txt'))"
      ],
      "metadata": {
        "id": "fiSE2zh3hYGo"
      },
      "execution_count": 28,
      "outputs": []
    },
    {
      "cell_type": "code",
      "source": [
        "bras.concordance('olhos')"
      ],
      "metadata": {
        "id": "VmD42_gkhY5M",
        "colab": {
          "base_uri": "https://localhost:8080/"
        },
        "outputId": "09639416-ad58-483c-a0b8-41d01574d154"
      },
      "execution_count": 29,
      "outputs": [
        {
          "output_type": "stream",
          "name": "stdout",
          "text": [
            "Displaying 25 of 138 matches:\n",
            "De pé , à cabeceira da cama , com os olhos estúpidos , a boca entreaberta , a t\n",
            "orelhas . Pela minha parte fechei os olhos e deixei - me ir à ventura . Já agor\n",
            "xões de cérebro enfermo . Como ia de olhos fechados , não via o caminho ; lembr\n",
            "gelos eternos . Com efeito , abri os olhos e vi que o meu animal galopava numa \n",
            "me apareceu então , fitando - me uns olhos rutilantes como o sol . Tudo nessa f\n",
            " mim mesmo . Então , encarei - a com olhos súplices , e pedi mais alguns anos .\n",
            "o alto de uma montanha . Inclinei os olhos a uma das vertentes , e contemplei ,\n",
            "ilhão , e , não obstante , porque os olhos do delírio são outros , eu via tudo \n",
            "cifração da eternidade . E fixei os olhos , e continuei a ver as idades , que \n",
            " esperto , concordava meu pai ; e os olhos babavam - se - lhe de orgulho , e el\n",
            "te , e , repetido o mote , cravar os olhos na testa de uma senhora , depois tos\n",
            "avrear de estômagos satisfeitos ; os olhos moles e úmidos , ou vivos e cálidos \n",
            "m estacado de orquestra , e todos os olhos se voltavam para o glosador . Quem f\n",
            " . Eu via isso , porque arrastava os olhos da compota para ele e dele para a co\n",
            " eu segui - os . O Vilaça levava nos olhos umas chispas de vinho e de volúpia .\n",
            "es ... D . Eusébia levou o lenço aos olhos . O glosador vasculhava na memória a\n",
            " estupefação imobilizou a todos ; os olhos espraiavam - se a uma e outra banda \n",
            "a aula , dava um pulo , circulava os olhos chamejantes , dizia - nos os últimos\n",
            ", deixava - se estar quieto , com os olhos espetados no ar . Uma flor , o Quinc\n",
            "u forcejava por trazer a bigode . Os olhos , vivos e resolutos , eram a minha f\n",
            " pensativa , ou levantou para mim os olhos cobiçosos . De todas porém a que me \n",
            "pouco ou nada comi , porque só tinha olhos para a dona da casa . Que gentil que\n",
            "erramava - se - lhe a felicidade dos olhos , e eu sentia - me feliz com vê - la\n",
            " meu amor ! Eu agradeci - lho com os olhos úmidos . No dia seguinte levei - lhe\n",
            "proposta . Marcela ouviu - me com os olhos no ar , sem responder logo ; como in\n"
          ]
        }
      ]
    },
    {
      "cell_type": "code",
      "source": [
        "bras.similar('chegar')"
      ],
      "metadata": {
        "id": "pkEzOtDGhdn4",
        "colab": {
          "base_uri": "https://localhost:8080/"
        },
        "outputId": "af70c2a4-5296-4d0e-fc8e-0e60cbe9f528"
      },
      "execution_count": 30,
      "outputs": [
        {
          "output_type": "stream",
          "name": "stdout",
          "text": [
            "já leitor lhe dizer com menos contar deixei cheguei desferirem peito\n",
            "corpo fazer porém ver casamento soltar quebrei titubear sacrifício\n"
          ]
        }
      ]
    },
    {
      "cell_type": "code",
      "source": [
        "bras.findall(\"<olhos> (<.*>)\")"
      ],
      "metadata": {
        "id": "V2bjEICEhi-t",
        "colab": {
          "base_uri": "https://localhost:8080/"
        },
        "outputId": "8762d356-1520-4459-e0d9-a7256f2ee8de"
      },
      "execution_count": 31,
      "outputs": [
        {
          "output_type": "stream",
          "name": "stdout",
          "text": [
            "estúpidos; e; fechados; e; rutilantes; súplices; a; do; ,; babavam;\n",
            "na; moles; se; da; umas; .; espraiavam; chamejantes; espetados; ,;\n",
            "cobiçosos; para; ,; úmidos; no; ;; de; de; fitos; a; naquele; do; ,;\n",
            "pretos; as; estúpidos; ao; às; ...; ,; fúlgidos; de; ,; .; de; pretos;\n",
            "tão; de; para; a; chisparam; para; me; da; ,; ,; uma; no; na; para;\n",
            "se; em; .; em; .; de; ,; no; nela; tinham; ;; cintilantes; o; dos; e;\n",
            ",; de; de; dela; vermelhos; .; e; .; o; ,; constantemente; para; ,; ,;\n",
            "para; ,; ao; ,; na; na; baixos; no; mais; no; se; dela; do; no; ,;\n",
            "lampejantes; rasos; todos; ,; e; do; pelos; de; ao; .; lhe; de;\n",
            "enfermos; :; ,; .; e; da; fixos; .; fitos; ,; ,; bonitos; de; ...; .;\n",
            "de; algum; a; ;; fitos; em\n"
          ]
        }
      ]
    },
    {
      "cell_type": "code",
      "source": [
        "stopwords = nltk.corpus.stopwords.words('portuguese')\n"
      ],
      "metadata": {
        "id": "L1L3Jza3ho7-"
      },
      "execution_count": 32,
      "outputs": []
    },
    {
      "cell_type": "code",
      "source": [
        "stopwords[:10]"
      ],
      "metadata": {
        "id": "n1fzASlOhtym",
        "colab": {
          "base_uri": "https://localhost:8080/"
        },
        "outputId": "c1f2137c-58b2-4fb6-c541-b7f1b51a3327"
      },
      "execution_count": 33,
      "outputs": [
        {
          "output_type": "execute_result",
          "data": {
            "text/plain": [
              "['a',\n",
              " 'à',\n",
              " 'ao',\n",
              " 'aos',\n",
              " 'aquela',\n",
              " 'aquelas',\n",
              " 'aquele',\n",
              " 'aqueles',\n",
              " 'aquilo',\n",
              " 'as']"
            ]
          },
          "metadata": {},
          "execution_count": 33
        }
      ]
    },
    {
      "cell_type": "code",
      "source": [
        "from nltk import bigrams\n"
      ],
      "metadata": {
        "id": "dl9h9hu2hvKp"
      },
      "execution_count": 34,
      "outputs": []
    },
    {
      "cell_type": "code",
      "source": [
        "list(bigrams(['meu', 'coração', 'está', 'bem', 'machucado']))"
      ],
      "metadata": {
        "id": "JISS5iuShzeH",
        "colab": {
          "base_uri": "https://localhost:8080/"
        },
        "outputId": "5bb569a1-0aad-4c89-e2a9-96c506da394e"
      },
      "execution_count": 35,
      "outputs": [
        {
          "output_type": "execute_result",
          "data": {
            "text/plain": [
              "[('meu', 'coração'),\n",
              " ('coração', 'está'),\n",
              " ('está', 'bem'),\n",
              " ('bem', 'machucado')]"
            ]
          },
          "metadata": {},
          "execution_count": 35
        }
      ]
    },
    {
      "cell_type": "code",
      "source": [
        "from nltk.corpus import machado\n",
        "from nltk.text import Text\n"
      ],
      "metadata": {
        "id": "dddgIHCOh7DI"
      },
      "execution_count": 36,
      "outputs": []
    },
    {
      "cell_type": "code",
      "source": [
        "bras = Text(machado.words('romance/marm05.txt'))\n"
      ],
      "metadata": {
        "id": "tIJxY6moiDVH"
      },
      "execution_count": 37,
      "outputs": []
    },
    {
      "cell_type": "code",
      "source": [
        "bras.collocations()"
      ],
      "metadata": {
        "id": "FVfXeJBoiEoe",
        "colab": {
          "base_uri": "https://localhost:8080/"
        },
        "outputId": "414af6df-24fc-4622-a014-9afeb7764d34"
      },
      "execution_count": 38,
      "outputs": [
        {
          "output_type": "stream",
          "name": "stdout",
          "text": [
            "Quincas Borba; Lobo Neves; alguma coisa; Brás Cubas; meu pai; que não;\n",
            "dia seguinte; não sei; Com efeito; que era; Meu pai; alguns instantes;\n",
            "outra vez; outra coisa; por exemplo; que ele; mim mesmo; coisa\n",
            "nenhuma; mesma coisa; não era\n"
          ]
        }
      ]
    },
    {
      "cell_type": "code",
      "source": [
        "stemmer = nltk.stem.RSLPStemmer()\n"
      ],
      "metadata": {
        "id": "fCf-vW24iGSc"
      },
      "execution_count": 39,
      "outputs": []
    },
    {
      "cell_type": "code",
      "source": [
        "stemmer.stem(\"copiar\")\n"
      ],
      "metadata": {
        "id": "Sp4Mb7PciKbc",
        "colab": {
          "base_uri": "https://localhost:8080/",
          "height": 35
        },
        "outputId": "93603552-669d-49c6-b4e9-f5790470843b"
      },
      "execution_count": 40,
      "outputs": [
        {
          "output_type": "execute_result",
          "data": {
            "text/plain": [
              "'copi'"
            ],
            "application/vnd.google.colaboratory.intrinsic+json": {
              "type": "string"
            }
          },
          "metadata": {},
          "execution_count": 40
        }
      ]
    },
    {
      "cell_type": "code",
      "source": [
        "stemmer.stem(\"paisagem\")"
      ],
      "metadata": {
        "id": "kytyHvueiLaj",
        "colab": {
          "base_uri": "https://localhost:8080/",
          "height": 35
        },
        "outputId": "d69f6e7f-8517-4cad-9426-86151703fe56"
      },
      "execution_count": 41,
      "outputs": [
        {
          "output_type": "execute_result",
          "data": {
            "text/plain": [
              "'pais'"
            ],
            "application/vnd.google.colaboratory.intrinsic+json": {
              "type": "string"
            }
          },
          "metadata": {},
          "execution_count": 41
        }
      ]
    },
    {
      "cell_type": "code",
      "source": [
        "sentence = \"\"\"Estou bem, mas não tenho certeza ... se viajarei amanhã às 8:30.\"\"\"\n"
      ],
      "metadata": {
        "id": "crAew6ihiMat"
      },
      "execution_count": 42,
      "outputs": []
    },
    {
      "cell_type": "code",
      "source": [
        "tokens = nltk.word_tokenize(sentence)\n"
      ],
      "metadata": {
        "id": "dLdsb5IIiT7X"
      },
      "execution_count": 43,
      "outputs": []
    },
    {
      "cell_type": "code",
      "source": [
        "tokens"
      ],
      "metadata": {
        "id": "9-WpmqwWiVFV",
        "colab": {
          "base_uri": "https://localhost:8080/"
        },
        "outputId": "14cdfcc6-f9e2-428c-b003-60b8279165c5"
      },
      "execution_count": 44,
      "outputs": [
        {
          "output_type": "execute_result",
          "data": {
            "text/plain": [
              "['Estou',\n",
              " 'bem',\n",
              " ',',\n",
              " 'mas',\n",
              " 'não',\n",
              " 'tenho',\n",
              " 'certeza',\n",
              " '...',\n",
              " 'se',\n",
              " 'viajarei',\n",
              " 'amanhã',\n",
              " 'às',\n",
              " '8:30',\n",
              " '.']"
            ]
          },
          "metadata": {},
          "execution_count": 44
        }
      ]
    },
    {
      "cell_type": "code",
      "source": [
        "#Importa a biblioteca\n",
        "from nltk.corpus import mac_morpho\n"
      ],
      "metadata": {
        "id": "rxifxe0DizFV"
      },
      "execution_count": 45,
      "outputs": []
    },
    {
      "cell_type": "code",
      "source": [
        "#Carrega as sentença rotuladas do Corpus\n",
        "sentencas_etiquetadas = mac_morpho.tagged_sents()"
      ],
      "metadata": {
        "id": "dElCVxXei0ym"
      },
      "execution_count": 46,
      "outputs": []
    },
    {
      "cell_type": "code",
      "source": [
        "tags = [tag for (word, tag) in mac_morpho.tagged_words()]\n"
      ],
      "metadata": {
        "id": "8lV7x22vjDzg"
      },
      "execution_count": 47,
      "outputs": []
    },
    {
      "cell_type": "code",
      "source": [
        "nltk.FreqDist(tags).max()"
      ],
      "metadata": {
        "id": "E62eF9wUjGcZ"
      },
      "execution_count": null,
      "outputs": []
    },
    {
      "cell_type": "code",
      "source": [
        "tagged_sents = nltk.corpus.mac_morpho.tagged_sents()\n"
      ],
      "metadata": {
        "id": "5bPo6TZKjNBw"
      },
      "execution_count": null,
      "outputs": []
    },
    {
      "cell_type": "code",
      "source": [
        "texto = 'A manhã está ensolarada'\n"
      ],
      "metadata": {
        "id": "-Hyq2Qz9jNGR"
      },
      "execution_count": null,
      "outputs": []
    },
    {
      "cell_type": "code",
      "source": [
        "tokens = nltk.word_tokenize(texto)\n"
      ],
      "metadata": {
        "id": "3iUQaV_hjSHE"
      },
      "execution_count": null,
      "outputs": []
    },
    {
      "cell_type": "code",
      "source": [
        "unigram_tagger = nltk.tag.UnigramTagger(tagged_sents)\n"
      ],
      "metadata": {
        "id": "Wd7yyhkLjTkR"
      },
      "execution_count": null,
      "outputs": []
    },
    {
      "cell_type": "code",
      "source": [
        "unigram_tagger.tag(tokens)"
      ],
      "metadata": {
        "id": "WRJw3eXUjU3O"
      },
      "execution_count": null,
      "outputs": []
    },
    {
      "cell_type": "code",
      "source": [
        "tagged_sents = nltk.corpus.mac_morpho.tagged_sents()\n"
      ],
      "metadata": {
        "id": "6eDrot4DjbOZ"
      },
      "execution_count": null,
      "outputs": []
    },
    {
      "cell_type": "code",
      "source": [
        "t0 = nltk.DefaultTagger('N')\n"
      ],
      "metadata": {
        "id": "X4j2RkRPjj0q"
      },
      "execution_count": null,
      "outputs": []
    },
    {
      "cell_type": "code",
      "source": [
        "t1 = nltk.UnigramTagger(tagged_sents, backoff=t0)\n"
      ],
      "metadata": {
        "id": "pIbHbF9pjkrV"
      },
      "execution_count": null,
      "outputs": []
    },
    {
      "cell_type": "code",
      "source": [
        "t2 = nltk.BigramTagger(tagged_sents, backoff=t1)\n"
      ],
      "metadata": {
        "id": "_yBMC5IOjlso"
      },
      "execution_count": null,
      "outputs": []
    },
    {
      "cell_type": "code",
      "source": [
        "t3 = nltk.TrigramTagger(tagged_sents, backoff=t2)"
      ],
      "metadata": {
        "id": "9yAgBoNGjmd0"
      },
      "execution_count": null,
      "outputs": []
    },
    {
      "cell_type": "code",
      "source": [
        "from pickle import dump\n"
      ],
      "metadata": {
        "id": "D7qJNdF1jsHZ"
      },
      "execution_count": null,
      "outputs": []
    },
    {
      "cell_type": "code",
      "source": [
        "output = open('mac_morpho.pkl', 'wb')\n"
      ],
      "metadata": {
        "id": "5z3968eUjvQ6"
      },
      "execution_count": null,
      "outputs": []
    },
    {
      "cell_type": "code",
      "source": [
        "dump(t3, output, -1)\n"
      ],
      "metadata": {
        "id": "n1GK3P__jwRf"
      },
      "execution_count": null,
      "outputs": []
    },
    {
      "cell_type": "code",
      "source": [
        "output.close()"
      ],
      "metadata": {
        "id": "7fAxzwmxjxMk"
      },
      "execution_count": null,
      "outputs": []
    },
    {
      "cell_type": "code",
      "source": [
        "from pickle import load"
      ],
      "metadata": {
        "id": "1RMeC7IEj0Ir"
      },
      "execution_count": null,
      "outputs": []
    },
    {
      "cell_type": "code",
      "source": [
        "input = open('mac_morpho.pkl', 'rb')\n"
      ],
      "metadata": {
        "id": "FRLgvhEgj4of"
      },
      "execution_count": null,
      "outputs": []
    },
    {
      "cell_type": "code",
      "source": [
        "tagger = load(input)\n"
      ],
      "metadata": {
        "id": "6cGn8hYCj5j5"
      },
      "execution_count": null,
      "outputs": []
    },
    {
      "cell_type": "code",
      "source": [
        "input.close()"
      ],
      "metadata": {
        "id": "lsII5q2Ej6Xw"
      },
      "execution_count": null,
      "outputs": []
    },
    {
      "cell_type": "code",
      "source": [
        "text = 'A manhã está ensolarada'"
      ],
      "metadata": {
        "id": "Tj6ex7VykQz1"
      },
      "execution_count": null,
      "outputs": []
    },
    {
      "cell_type": "code",
      "source": [
        "sentences = nltk.sent_tokenize(text) \n"
      ],
      "metadata": {
        "id": "WZ-ZLrBQkCNy"
      },
      "execution_count": null,
      "outputs": []
    },
    {
      "cell_type": "code",
      "source": [
        "sentences = [nltk.word_tokenize(sent) for sent in sentences] \n"
      ],
      "metadata": {
        "id": "w797VMaEkHtV"
      },
      "execution_count": null,
      "outputs": []
    },
    {
      "cell_type": "code",
      "source": [
        "sentences = [tagger.tag(sent) for sent in sentences]"
      ],
      "metadata": {
        "id": "_O7us9xzkM6D"
      },
      "execution_count": null,
      "outputs": []
    },
    {
      "cell_type": "code",
      "source": [
        "sentences"
      ],
      "metadata": {
        "id": "uz8_1SFBkyvI"
      },
      "execution_count": null,
      "outputs": []
    },
    {
      "cell_type": "code",
      "source": [
        "text = \"João comprou um carro esportivo\"\n"
      ],
      "metadata": {
        "id": "wSRYA4vqk4qE"
      },
      "execution_count": null,
      "outputs": []
    },
    {
      "cell_type": "code",
      "source": [
        "tokens = nltk.word_tokenize(text)\n"
      ],
      "metadata": {
        "id": "BP81cy2Ok-pX"
      },
      "execution_count": null,
      "outputs": []
    },
    {
      "cell_type": "code",
      "source": [
        "tagged = tagger.tag(tokens)\n"
      ],
      "metadata": {
        "id": "Its0D0Aqk_rn"
      },
      "execution_count": null,
      "outputs": []
    },
    {
      "cell_type": "code",
      "source": [
        "gramatica = r\"\"\"PADRAO: {<N><ADJ>+}\"\"\"\n"
      ],
      "metadata": {
        "id": "z7bnguwflA1t"
      },
      "execution_count": null,
      "outputs": []
    },
    {
      "cell_type": "code",
      "source": [
        "analiseGramatical = nltk.RegexpParser(gramatica)\n"
      ],
      "metadata": {
        "id": "qMHlYDBrlB4a"
      },
      "execution_count": null,
      "outputs": []
    },
    {
      "cell_type": "code",
      "source": [
        "analiseGramatical.parse(tagged)"
      ],
      "metadata": {
        "id": "WxzWFsRTlC7j"
      },
      "execution_count": null,
      "outputs": []
    },
    {
      "cell_type": "code",
      "source": [
        "text = \"O ministro Edson Fachin do Supremo Tribunal Federal determimou a separação do inquérito contra o presidente Michel Temer da investigação contra o senador afastado Aécio Neves.\"\n"
      ],
      "metadata": {
        "id": "V0XqjmBWlPz-"
      },
      "execution_count": null,
      "outputs": []
    },
    {
      "cell_type": "code",
      "source": [
        "tokens = nltk.word_tokenize(text)\n"
      ],
      "metadata": {
        "id": "mj-rnlIZlYz-"
      },
      "execution_count": null,
      "outputs": []
    },
    {
      "cell_type": "code",
      "source": [
        "tagged = tagger.tag(tokens)\n"
      ],
      "metadata": {
        "id": "bxr-Zt96lZ7p"
      },
      "execution_count": null,
      "outputs": []
    },
    {
      "cell_type": "code",
      "source": [
        "gramatica = r\"\"\"NE: {<NPROP>+}\"\"\"\n"
      ],
      "metadata": {
        "id": "C94Xjx6ZlbFT"
      },
      "execution_count": null,
      "outputs": []
    },
    {
      "cell_type": "code",
      "source": [
        "analiseGramatical = nltk.RegexpParser(gramatica)\n"
      ],
      "metadata": {
        "id": "XkeQxv9_lcIl"
      },
      "execution_count": null,
      "outputs": []
    },
    {
      "cell_type": "code",
      "source": [
        "analiseGramatical.parse(tagged)"
      ],
      "metadata": {
        "id": "VAYcFyrrldPv"
      },
      "execution_count": null,
      "outputs": []
    },
    {
      "cell_type": "code",
      "source": [
        "text = 'A estátua foi criada pelo escultor George Silva, que nasceu na Romênia'\n"
      ],
      "metadata": {
        "id": "kD_zZ7Salh6w"
      },
      "execution_count": null,
      "outputs": []
    },
    {
      "cell_type": "code",
      "source": [
        "tokens = nltk.word_tokenize(text)\n"
      ],
      "metadata": {
        "id": "mJDJbAsWlnNl"
      },
      "execution_count": null,
      "outputs": []
    },
    {
      "cell_type": "code",
      "source": [
        "tagged = tagger.tag(tokens)\n"
      ],
      "metadata": {
        "id": "6JscHCb7lonk"
      },
      "execution_count": null,
      "outputs": []
    },
    {
      "cell_type": "code",
      "source": [
        "gramatica = r\"\"\" NE: {<NPROP>+} \n",
        "REL: {<NE> <.*>* <PREP.*> <.*>* <NE>} \"\"\"\n"
      ],
      "metadata": {
        "id": "lpixv8IqlrUo"
      },
      "execution_count": null,
      "outputs": []
    },
    {
      "cell_type": "code",
      "source": [
        "analiseGramatical = nltk.RegexpParser(gramatica)\n"
      ],
      "metadata": {
        "id": "tPWebh-Gltut"
      },
      "execution_count": null,
      "outputs": []
    },
    {
      "cell_type": "code",
      "source": [
        "analiseGramatical.parse(tagged)"
      ],
      "metadata": {
        "id": "EQ2CM953luav"
      },
      "execution_count": null,
      "outputs": []
    }
  ]
}